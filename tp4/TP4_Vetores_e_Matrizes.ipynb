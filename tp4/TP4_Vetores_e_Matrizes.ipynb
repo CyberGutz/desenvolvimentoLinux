{
  "nbformat": 4,
  "nbformat_minor": 0,
  "metadata": {
    "colab": {
      "provenance": []
    },
    "kernelspec": {
      "name": "python3",
      "display_name": "Python 3"
    },
    "language_info": {
      "name": "python"
    }
  },
  "cells": [
    {
      "cell_type": "markdown",
      "source": [
        "### Trabalho 4 de Desenvolvimento LInux\n",
        "\n",
        "Enunciado:\n",
        "\n",
        "Objetivo: O objetivo principal é estudar a utilização eficiente de matrizes na linguagem Python, muito empregada na computação matemática. Basicamente, estudar sobre o uso das bibliotecas Numpy e Scipy.\n",
        "\n",
        "Tarefas:\n",
        "\n",
        "1.  Implementar em python o método de Gauss-Jordan para resolução de sistemas de equações lineares. Resolva o problema utilizando a biblioteca Numpy (manipulação de matrizes).\n",
        "\n",
        "2.  Depois resolva o mesmo problema utlizando as facilidades da biblioteca Scipy (utilize o solve).\n",
        "\n",
        "3.  Compare os resultados para avaliar a corretude do método Gauss-Jordan que você implementou no 1 passo."
      ],
      "metadata": {
        "id": "GCdk93wAsgw-"
      }
    },
    {
      "cell_type": "code",
      "execution_count": null,
      "metadata": {
        "id": "gFLLHJtGsaby"
      },
      "outputs": [],
      "source": [
        "!pip install numpy scipy"
      ]
    },
    {
      "cell_type": "code",
      "source": [
        "import numpy as np\n",
        "from scipy import linalg\n",
        "import time"
      ],
      "metadata": {
        "id": "sVzoZDaLtgP9"
      },
      "execution_count": null,
      "outputs": []
    },
    {
      "cell_type": "code",
      "source": [
        "A = np.array([\n",
        "     [5, 5, 0],\n",
        "     [2, 4, 1],\n",
        "     [3, 4, 0]\n",
        "     ])\n",
        "B = np.array([15, 10, 11])"
      ],
      "metadata": {
        "id": "MsHdKbrXtkvl"
      },
      "execution_count": null,
      "outputs": []
    },
    {
      "cell_type": "code",
      "source": [
        "start_time = time.time()\n",
        "\n",
        "n = len(B)\n",
        "aug_matrix = np.hstack([A, B.reshape(-1, 1)])\n",
        "\n",
        "for i in range(n):\n",
        "    max_row = np.argmax(np.abs(aug_matrix[i:, i])) + i\n",
        "    aug_matrix[[i, max_row]] = aug_matrix[[max_row, i]]\n",
        "\n",
        "    aug_matrix[i] = aug_matrix[i] / aug_matrix[i, i]\n",
        "\n",
        "    for j in range(n):\n",
        "        if i != j:\n",
        "            factor = aug_matrix[j, i]\n",
        "            aug_matrix[j] = aug_matrix[j] - factor * aug_matrix[i]\n",
        "\n",
        "X = aug_matrix[:, -1]\n",
        "\n",
        "end_time = time.time()\n",
        "\n",
        "print(\"Solução:\", X)\n",
        "tempo_numpy = end_time - start_time\n",
        "print(f\"Tempo de execução: {end_time - start_time:.5f} segundos\")"
      ],
      "metadata": {
        "id": "3_Lmg3xatlpB"
      },
      "execution_count": null,
      "outputs": []
    },
    {
      "cell_type": "code",
      "source": [
        "start_time = time.time()\n",
        "\n",
        "X = linalg.solve(A, B)\n",
        "\n",
        "end_time = time.time()\n",
        "\n",
        "print(\"Solução:\", X)\n",
        "tempo_scipy = end_time - start_time\n",
        "print(f\"Tempo de execução: {end_time - start_time:.5f} segundos\")"
      ],
      "metadata": {
        "id": "ant3vU7YuVd0"
      },
      "execution_count": null,
      "outputs": []
    },
    {
      "cell_type": "code",
      "source": [
        "print(\"Comparação: diferença entre tempos de execução\")\n",
        "print(f\"Scipy - Numpy {tempo_scipy - tempo_numpy:.5f} segundos\")"
      ],
      "metadata": {
        "id": "qGeDb-YUuK88"
      },
      "execution_count": null,
      "outputs": []
    }
  ]
}